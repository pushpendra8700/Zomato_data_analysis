{
 "cells": [
  {
   "cell_type": "code",
   "execution_count": null,
   "id": "3c209ee5",
   "metadata": {},
   "outputs": [],
   "source": [
    "# Import necessary libraries\n",
    "import pandas as pd\n",
    "import numpy as np"
   ]
  },
  {
   "cell_type": "code",
   "execution_count": null,
   "id": "c8de8f0b",
   "metadata": {},
   "outputs": [],
   "source": [
    "# Load the Zomato dataset\n",
    "df = pd.read_csv('zomato.csv')"
   ]
  },
  {
   "cell_type": "code",
   "execution_count": null,
   "id": "7f5b72ce",
   "metadata": {},
   "outputs": [],
   "source": [
    "# Drop unnecessary columns\n",
    "df3 = df.drop(columns=['url', 'phone', 'rest_type', 'dish_liked', 'reviews_list', 'menu_item', 'listed_in(city)'], axis=1)"
   ]
  },
  {
   "cell_type": "code",
   "execution_count": null,
   "id": "d8ce9f04",
   "metadata": {},
   "outputs": [],
   "source": [
    "# Rename columns for better readability\n",
    "df4 = df3.rename(columns={'approx_cost(for two people)': 'two_people_cost', 'listed_in(type)': 'type_of_restaurant'})"
   ]
  },
  {
   "cell_type": "code",
   "execution_count": null,
   "id": "b66ae96e",
   "metadata": {},
   "outputs": [],
   "source": [
    "# Rename 'rate' column to 'rating'\n",
    "df5 = df4.rename(columns={'rate': 'rating'})"
   ]
  },
  {
   "cell_type": "code",
   "execution_count": null,
   "id": "343f1864",
   "metadata": {},
   "outputs": [],
   "source": [
    "# Drop rows with missing 'location'\n",
    "df5 = df5.dropna(subset=['location'])"
   ]
  },
  {
   "cell_type": "code",
   "execution_count": null,
   "id": "b66b0c1a",
   "metadata": {},
   "outputs": [],
   "source": [
    "# Drop rows with missing 'cuisines' or 'two_people_cost'\n",
    "df5 = df5.dropna(subset=['cuisines', 'two_people_cost'])"
   ]
  },
  {
   "cell_type": "code",
   "execution_count": null,
   "id": "b1475cb4",
   "metadata": {},
   "outputs": [],
   "source": [
    "# Clean 'two_people_cost' column by removing commas and converting to int\n",
    "df5['two_people_cost'] = df5['two_people_cost'].str.replace(',', '').astype(int)"
   ]
  },
  {
   "cell_type": "code",
   "execution_count": null,
   "id": "8c1004fd",
   "metadata": {},
   "outputs": [],
   "source": [
    "# Calculate cost per person\n",
    "df5['two_people_cost'] = df5['two_people_cost'] / 2"
   ]
  },
  {
   "cell_type": "code",
   "execution_count": null,
   "id": "e04d0d77",
   "metadata": {},
   "outputs": [],
   "source": [
    "# Rename 'two_people_cost' to 'cost_per_person'\n",
    "df5 = df5.rename(columns={'two_people_cost': 'cost_per_person'})"
   ]
  },
  {
   "cell_type": "code",
   "execution_count": null,
   "id": "1aca6c68",
   "metadata": {},
   "outputs": [],
   "source": [
    "# Function to clean 'rating' column\n",
    "def handlerate(value):\n",
    "    if value == 'NEW' or value == '-':\n",
    "        return np.nan\n",
    "    else:\n",
    "        value = str(value).split('/')[0]\n",
    "        return float(value)"
   ]
  },
  {
   "cell_type": "code",
   "execution_count": null,
   "id": "07da942f",
   "metadata": {},
   "outputs": [],
   "source": [
    "# Apply the handlerate function to clean ratings\n",
    "df5['rating'] = df5['rating'].apply(handlerate)"
   ]
  },
  {
   "cell_type": "code",
   "execution_count": null,
   "id": "dd1deb46",
   "metadata": {},
   "outputs": [],
   "source": [
    "# Check for missing values\n",
    "df5.isnull().sum()"
   ]
  },
  {
   "cell_type": "code",
   "execution_count": null,
   "id": "6535fbc6",
   "metadata": {},
   "outputs": [],
   "source": [
    "# Fill missing ratings with the mean rating\n",
    "df5['rating'] = df5['rating'].fillna(df5['rating'].mean())"
   ]
  },
  {
   "cell_type": "code",
   "execution_count": null,
   "id": "ac18b9d5",
   "metadata": {},
   "outputs": [],
   "source": [
    "# Save the cleaned data to a new CSV file\n",
    "df5.to_csv('Zomato_Clean_Data.csv', index=False)"
   ]
  },
  {
   "cell_type": "code",
   "execution_count": null,
   "id": "e40522e7",
   "metadata": {},
   "outputs": [],
   "source": [
    "# Display first few rows to check\n",
    "df5.head()"
   ]
  }
 ],
 "metadata": {
  "kernelspec": {
   "display_name": "Python [conda env:base] *",
   "language": "python",
   "name": "conda-base-py"
  },
  "language_info": {
   "codemirror_mode": {
    "name": "ipython",
    "version": 3
   },
   "file_extension": ".py",
   "mimetype": "text/x-python",
   "name": "python",
   "nbconvert_exporter": "python",
   "pygments_lexer": "ipython3",
   "version": "3.12.7"
  }
 },
 "nbformat": 4,
 "nbformat_minor": 5
}
